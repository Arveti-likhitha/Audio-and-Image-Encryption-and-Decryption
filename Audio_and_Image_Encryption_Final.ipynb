{
 "cells": [
  {
   "cell_type": "code",
   "execution_count": 1,
   "id": "8c96c3da-e261-417e-9846-bc708dd334b9",
   "metadata": {},
   "outputs": [],
   "source": [
    "from cryptography.fernet import Fernet\n",
    "from tkinter import *\n",
    "from tkinter import filedialog\n",
    "from functools import partial"
   ]
  },
  {
   "cell_type": "code",
   "execution_count": 2,
   "id": "8848a45f-32d5-4aae-bf6c-bfce8d00dd6c",
   "metadata": {},
   "outputs": [],
   "source": [
    "global filename\n",
    "button_height = 2\n",
    "button_width = 25"
   ]
  },
  {
   "cell_type": "code",
   "execution_count": 3,
   "id": "e5507261-17e8-4b89-b7d9-22fc5c4101ee",
   "metadata": {},
   "outputs": [],
   "source": [
    "def browseFiles():\n",
    "    browseFiles.filename = filedialog.askopenfilename(initialdir=\"/\", title=\"Select a File\",)\n",
    "    label_file_explorer.configure(text=\"File Opened: \" + browseFiles.filename)\n",
    "\n",
    "    pass_label.pack()\n",
    "    password.pack()\n",
    "    temp_label.pack()\n",
    "    button_encrypt.pack()\n",
    "    button_decrypt.pack()"
   ]
  },
  {
   "cell_type": "code",
   "execution_count": 4,
   "id": "173cdeab-20dd-4b23-8af8-a2b1e7acb231",
   "metadata": {},
   "outputs": [],
   "source": [
    "import time\n",
    "\n",
    "def encrypt_file(p_word):\n",
    "    temp_key = p_word.get()\n",
    "    temp_key = ''.join(e for e in temp_key if e.isalnum())\n",
    "    key = temp_key + (\"s\" * (43 - len(temp_key)) + \"=\")\n",
    "    fernet = Fernet(key)\n",
    "    \n",
    "    start_time = time.time()\n",
    "    with open(browseFiles.filename, 'rb') as file:\n",
    "        original = file.read()\n",
    "    encrypted = fernet.encrypt(original)\n",
    "    with open(browseFiles.filename, 'wb') as encrypted_file:\n",
    "        encrypted_file.write(encrypted)\n",
    "    encryption_time = time.time() - start_time\n",
    "    print(\"Encryption Time:\", encryption_time)\n",
    "    status_label.configure(text=\"Encrypted\")\n",
    "    status_label.pack()"
   ]
  },
  {
   "cell_type": "code",
   "execution_count": 5,
   "id": "00c6cc8e-4f2a-4794-836d-ebe60794ddd2",
   "metadata": {},
   "outputs": [],
   "source": [
    "import time\n",
    "\n",
    "def decrypt_file(p_word):\n",
    "    temp_key = p_word.get()\n",
    "    temp_key = ''.join(e for e in temp_key if e.isalnum())\n",
    "    key = temp_key + (\"s\" * (43 - len(temp_key)) + \"=\")\n",
    "    fernet = Fernet(key)\n",
    "    \n",
    "    start_time = time.time()\n",
    "    with open(browseFiles.filename, 'rb') as enc_file:\n",
    "        encrypted = enc_file.read()\n",
    "    decrypted = fernet.decrypt(encrypted)\n",
    "    with open(browseFiles.filename, 'wb') as dec_file:\n",
    "        dec_file.write(decrypted)\n",
    "    decryption_time = time.time() - start_time\n",
    "    print(\"Decryption Time:\", decryption_time)\n",
    "    status_label.configure(text=\"Decrypted\")\n",
    "    status_label.pack()"
   ]
  },
  {
   "cell_type": "code",
   "execution_count": 6,
   "id": "cf28a781-4f2c-4f5e-a827-4acb38a5a715",
   "metadata": {},
   "outputs": [],
   "source": [
    "window = Tk()"
   ]
  },
  {
   "cell_type": "code",
   "execution_count": 7,
   "id": "c2526394-c6bf-4da4-8175-4a26ddceb08e",
   "metadata": {},
   "outputs": [],
   "source": [
    "window.title('File Explorer')\n",
    "window.geometry(\"940x740\")\n",
    "window.config(background=\"black\")"
   ]
  },
  {
   "cell_type": "code",
   "execution_count": 8,
   "id": "edd15007-cc14-46b7-b8f0-fecb279055b6",
   "metadata": {},
   "outputs": [],
   "source": [
    "main_title = Label(window, text=\"Audio and Image Encryptor and Decryptor\", width=100, height=2, fg=\"white\", bg=\"black\",font =(\"\",30))\n",
    "passwd = StringVar()"
   ]
  },
  {
   "cell_type": "code",
   "execution_count": 9,
   "id": "616b02f1-aa49-4e68-aa82-222aaaa36194",
   "metadata": {},
   "outputs": [],
   "source": [
    "submit_para_en = partial(encrypt_file, passwd)\n",
    "submit_para_de = partial(decrypt_file, passwd)"
   ]
  },
  {
   "cell_type": "code",
   "execution_count": 10,
   "id": "720d950c-5b18-496a-9b41-6d219b58e836",
   "metadata": {},
   "outputs": [],
   "source": [
    "credit = Label(window,text = \"\", bg=\"black\",height=2,  fg = \"white\", font =(\"\",15))\n",
    "label_file_explorer = Label(window, text=\"File Name : \", width=100, height=2, fg=\"white\", bg=\"black\",font =(\"\",20))\n",
    "pass_label = Label(window, text=\"Password for encryption/decryption : \", width=100, height=2, fg=\"white\", bg=\"black\",font =(\"\",20))\n",
    "temp_label = Label(window, text=\"\", height=3, bg=\"black\")"
   ]
  },
  {
   "cell_type": "code",
   "execution_count": 11,
   "id": "61bbc0ed-b44e-4c0f-bcb3-da0cf18610ad",
   "metadata": {},
   "outputs": [],
   "source": [
    "button_explore = Button(window, text=\"Browse File\", command=browseFiles, width=button_width, height=button_height, font =(\"\",15))"
   ]
  },
  {
   "cell_type": "code",
   "execution_count": 12,
   "id": "67f94448-80cb-406b-8d1f-ddcb1d1f1602",
   "metadata": {},
   "outputs": [],
   "source": [
    "password = Entry(window, textvariable=passwd,show=\"*\")"
   ]
  },
  {
   "cell_type": "code",
   "execution_count": 13,
   "id": "39e8b880-0899-4a0d-8d5b-286f58dbf027",
   "metadata": {},
   "outputs": [],
   "source": [
    "button_encrypt = Button(window, text=\"Encrypt\", command=submit_para_en, width=button_width, height=button_height, font =(\"\",15))\n",
    "button_decrypt = Button(window, text=\"Decrypt\", command=submit_para_de, width=button_width, height=button_height, font =(\"\",15))"
   ]
  },
  {
   "cell_type": "code",
   "execution_count": 14,
   "id": "6d0d113a-46ec-4455-8d89-be8facd1ae0f",
   "metadata": {},
   "outputs": [],
   "source": [
    "status_label = Label(window, text=\"\", width=100, height=4, fg=\"white\", bg=\"black\",font =(\"\",17))"
   ]
  },
  {
   "cell_type": "code",
   "execution_count": 15,
   "id": "455a7e0f-dddd-47a2-8e3e-3faf398f97b4",
   "metadata": {},
   "outputs": [],
   "source": [
    "credit.pack()\n",
    "main_title.pack()\n",
    "label_file_explorer.pack()\n",
    "button_explore.pack()\n",
    "window.mainloop()"
   ]
  },
  {
   "cell_type": "code",
   "execution_count": null,
   "id": "c7dc9740-9c13-434d-8cff-11dddbc09d37",
   "metadata": {},
   "outputs": [],
   "source": []
  }
 ],
 "metadata": {
  "kernelspec": {
   "display_name": "Python 3 (ipykernel)",
   "language": "python",
   "name": "python3"
  },
  "language_info": {
   "codemirror_mode": {
    "name": "ipython",
    "version": 3
   },
   "file_extension": ".py",
   "mimetype": "text/x-python",
   "name": "python",
   "nbconvert_exporter": "python",
   "pygments_lexer": "ipython3",
   "version": "3.11.7"
  }
 },
 "nbformat": 4,
 "nbformat_minor": 5
}
